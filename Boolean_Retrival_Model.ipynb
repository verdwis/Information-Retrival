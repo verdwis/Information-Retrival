{
  "nbformat": 4,
  "nbformat_minor": 0,
  "metadata": {
    "colab": {
      "provenance": [],
      "authorship_tag": "ABX9TyPDOTp4w1w4m/VCTJ1xPFEn",
      "include_colab_link": true
    },
    "kernelspec": {
      "name": "python3",
      "display_name": "Python 3"
    },
    "language_info": {
      "name": "python"
    }
  },
  "cells": [
    {
      "cell_type": "markdown",
      "metadata": {
        "id": "view-in-github",
        "colab_type": "text"
      },
      "source": [
        "<a href=\"https://colab.research.google.com/github/verdwis/Information-Retrival/blob/main/Boolean_Retrival_Model.ipynb\" target=\"_parent\"><img src=\"https://colab.research.google.com/assets/colab-badge.svg\" alt=\"Open In Colab\"/></a>"
      ]
    },
    {
      "cell_type": "markdown",
      "source": [
        "## Devinisi Nilai"
      ],
      "metadata": {
        "id": "NxdS3dTMqfIw"
      }
    },
    {
      "cell_type": "code",
      "execution_count": 96,
      "metadata": {
        "id": "9EE3J0J2hYpf"
      },
      "outputs": [],
      "source": [
        "p1 =[3,7,5,8,13,15,30,34]\n",
        "p2 =[1,7,5,9,11,15,20,34,35]"
      ]
    },
    {
      "cell_type": "markdown",
      "source": [
        "## AND Intersect"
      ],
      "metadata": {
        "id": "JlSBg14lpJBt"
      }
    },
    {
      "cell_type": "code",
      "source": [
        "def AND_opp(word1, word2):\n",
        "    answer = []\n",
        "    i = 0\n",
        "    j = 0\n",
        "    while i < len(word1) and j < len(word2):\n",
        "        if word1[i] == word2[j]:\n",
        "            answer.append(word1[i])\n",
        "            i += 1\n",
        "            j += 1\n",
        "        elif word1[i] < word2[j]:\n",
        "            i += 1\n",
        "        else:\n",
        "            j += 1\n",
        "    answer.sort()\n",
        "    print(answer)\n",
        "    return (answer)"
      ],
      "metadata": {
        "id": "0O700uFpt0VN"
      },
      "execution_count": 101,
      "outputs": []
    },
    {
      "cell_type": "code",
      "source": [
        "and_op = AND_opp(p1,p2)"
      ],
      "metadata": {
        "colab": {
          "base_uri": "https://localhost:8080/"
        },
        "id": "lX_G0j9goSWg",
        "outputId": "7c4d2cb9-56b1-4288-d1f3-67989f968537"
      },
      "execution_count": 102,
      "outputs": [
        {
          "output_type": "stream",
          "name": "stdout",
          "text": [
            "[5, 7, 15, 34]\n"
          ]
        }
      ]
    },
    {
      "cell_type": "markdown",
      "source": [
        "## OR Intersect"
      ],
      "metadata": {
        "id": "yRHD0mTQqq1K"
      }
    },
    {
      "cell_type": "code",
      "source": [
        "def OR_Op(word1, word2):\n",
        "    answer = []\n",
        "    i = 0\n",
        "    j = 0\n",
        "    while i < len(word1) and j < len(word2):\n",
        "        if word1[i] == word2[i]:\n",
        "            answer.append(word1[i])\n",
        "            i += 1\n",
        "            j += 1\n",
        "        elif word1[i] < word2[i]:\n",
        "            answer.append(word1[i])\n",
        "            i += 1\n",
        "        else:\n",
        "            answer.append(word2[j])\n",
        "            j += 1\n",
        "\n",
        "    # while i < len(word1):\n",
        "    #     answer.append(word1[i])\n",
        "    #     i += 1\n",
        "\n",
        "    # while j < len(word2):\n",
        "    #     answer.append(word2[j])\n",
        "    #     j += 1\n",
        "    answer.sort()\n",
        "    print(answer)\n",
        "    return (answer)"
      ],
      "metadata": {
        "id": "HGmRZrmKqzVA"
      },
      "execution_count": 92,
      "outputs": []
    },
    {
      "cell_type": "code",
      "source": [
        "p1 =[5,3,8,7,13,15,30,34]\n",
        "p2 =[5,1,9,7,11,15,20,34,35]"
      ],
      "metadata": {
        "id": "43coYzuh3LPg"
      },
      "execution_count": 93,
      "outputs": []
    },
    {
      "cell_type": "code",
      "source": [
        "tes = OR_Op(p1,p2)"
      ],
      "metadata": {
        "colab": {
          "base_uri": "https://localhost:8080/"
        },
        "id": "T8u-REG64Cnv",
        "outputId": "b7ea1768-2e73-41b4-b108-8e2d8f57c521"
      },
      "execution_count": 94,
      "outputs": [
        {
          "output_type": "stream",
          "name": "stdout",
          "text": [
            "[1, 5, 7, 9, 11, 15, 20, 34, 35]\n"
          ]
        }
      ]
    }
  ]
}