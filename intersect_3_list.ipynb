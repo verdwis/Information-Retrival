{
  "nbformat": 4,
  "nbformat_minor": 0,
  "metadata": {
    "colab": {
      "provenance": [],
      "authorship_tag": "ABX9TyO/qYOmaqX4WQ9DvdipBS3C",
      "include_colab_link": true
    },
    "kernelspec": {
      "name": "python3",
      "display_name": "Python 3"
    },
    "language_info": {
      "name": "python"
    }
  },
  "cells": [
    {
      "cell_type": "markdown",
      "metadata": {
        "id": "view-in-github",
        "colab_type": "text"
      },
      "source": [
        "<a href=\"https://colab.research.google.com/github/verdwis/Information-Retrival/blob/main/intersect_3_list.ipynb\" target=\"_parent\"><img src=\"https://colab.research.google.com/assets/colab-badge.svg\" alt=\"Open In Colab\"/></a>"
      ]
    },
    {
      "cell_type": "code",
      "execution_count": 48,
      "metadata": {
        "id": "feyYFFjMqRoJ"
      },
      "outputs": [],
      "source": [
        "\n",
        "def intersect(t1, t2, t3):\n",
        "    common = set()\n",
        "    for elem in t1:\n",
        "        if elem in t2 and elem in t3:\n",
        "            common.add(elem)\n",
        "    common = sorted(common)\n",
        "    print(common)\n",
        "    return common"
      ]
    },
    {
      "cell_type": "code",
      "source": [
        "brutus = [2,4,8,16,32,64,128]\n",
        "caesar = [1,2,3,5,8,16,21,34]\n",
        "calpurnia = [13,16]\n",
        "\n",
        "coba = intersect(brutus, caesar, calpurnia)"
      ],
      "metadata": {
        "colab": {
          "base_uri": "https://localhost:8080/"
        },
        "id": "k2xndtU9319f",
        "outputId": "c53bcd8e-94a8-4cb7-9018-93cf536d6c82"
      },
      "execution_count": 51,
      "outputs": [
        {
          "output_type": "stream",
          "name": "stdout",
          "text": [
            "[16]\n"
          ]
        }
      ]
    }
  ]
}